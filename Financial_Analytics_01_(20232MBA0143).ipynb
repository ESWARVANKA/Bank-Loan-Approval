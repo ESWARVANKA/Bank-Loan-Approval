{
  "nbformat": 4,
  "nbformat_minor": 0,
  "metadata": {
    "colab": {
      "provenance": [],
      "authorship_tag": "ABX9TyODXalizxPyRrnPlOaKkou7",
      "include_colab_link": true
    },
    "kernelspec": {
      "name": "python3",
      "display_name": "Python 3"
    },
    "language_info": {
      "name": "python"
    }
  },
  "cells": [
    {
      "cell_type": "markdown",
      "metadata": {
        "id": "view-in-github",
        "colab_type": "text"
      },
      "source": [
        "<a href=\"https://colab.research.google.com/github/ESWARVANKA/Bank-Loan-Approval/blob/main/Financial_Analytics_01_(20232MBA0143).ipynb\" target=\"_parent\"><img src=\"https://colab.research.google.com/assets/colab-badge.svg\" alt=\"Open In Colab\"/></a>"
      ]
    },
    {
      "cell_type": "code",
      "execution_count": 2,
      "metadata": {
        "colab": {
          "base_uri": "https://localhost:8080/"
        },
        "id": "yDc7x7i1zaAg",
        "outputId": "ac964b95-3541-4f13-f10e-a68b62efe2dd"
      },
      "outputs": [
        {
          "output_type": "stream",
          "name": "stdout",
          "text": [
            "XIRR: 3.03%\n"
          ]
        }
      ],
      "source": [
        "import numpy as np\n",
        "from scipy.optimize import newton\n",
        "from datetime import datetime, timedelta\n",
        "\n",
        "# Define XIRR function\n",
        "def xirr(cash_flows, dates):\n",
        "    # Ensure the cash flow and dates are numpy arrays for processing\n",
        "    cash_flows = np.array(cash_flows)\n",
        "    dates = np.array([datetime.strptime(d, \"%Y-%m-%d\") for d in dates])\n",
        "\n",
        "    # XIRR function to minimize\n",
        "    def xnpv(rate):\n",
        "        return sum(\n",
        "            cf / ((1 + rate) ** ((date - dates[0]).days / 365))\n",
        "            for cf, date in zip(cash_flows, dates)\n",
        "        )\n",
        "\n",
        "    # Solve for the rate\n",
        "    return newton(xnpv, x0=0.1)\n",
        "\n",
        "# Generate 30 years of cash flow\n",
        "np.random.seed(123)  # For reproducibility\n",
        "cash_flows = [-100000]  # Initial investment\n",
        "cash_flows += list(np.random.randint(1000, 10000, 29)) + [200000]  # Inflows and final outflow\n",
        "\n",
        "# Generate corresponding dates\n",
        "start_date = datetime(2025, 1, 1)\n",
        "dates = [start_date + timedelta(days=365 * i) for i in range(30)]\n",
        "dates = [date.strftime(\"%Y-%m-%d\") for date in dates]\n",
        "\n",
        "# Calculate XIRR\n",
        "result = xirr(cash_flows, dates)\n",
        "print(f\"XIRR: {result * 100:.2f}%\")\n"
      ]
    },
    {
      "cell_type": "markdown",
      "source": [
        "The code calculates the Extended Internal Rate of Return (XIRR) for a 30-year investment.  It simulates an initial investment of $100,000, followed by random annual cash flows, culminating in a final payout. The XIRR represents the discount rate that makes the net present value of all cash flows equal to zero, providing a measure of the investment's overall profitability.  A positive XIRR indicates a profitable investment, while a negative one suggests a loss"
      ],
      "metadata": {
        "id": "MY5TLQXN59FL"
      }
    },
    {
      "cell_type": "code",
      "source": [],
      "metadata": {
        "id": "KO1dQ3WQ5o1I"
      },
      "execution_count": null,
      "outputs": []
    }
  ]
}